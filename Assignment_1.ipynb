{
 "cells": [
  {
   "cell_type": "code",
   "execution_count": null,
   "metadata": {},
   "outputs": [],
   "source": [
    "import cv2\n",
    "import time\n",
    "import numpy\n",
    "\n",
    "cap = cv2.VideoCapture(1)\n",
    "start_time = time.time()\n",
    "frame_count=0\n",
    "\n",
    "while(True):\n",
    "    ret, frame = cap.read()\n",
    "    gray = cv2.cvtColor(frame, cv2.COLOR_BGR2GRAY)\n",
    "    blue,green,red = cv2.split(frame)\n",
    "    print(gray)\n",
    "    frame_count += 1\n",
    "    elapsed_time = time.time() - start_time\n",
    "    fps = frame_count / elapsed_time\n",
    "    print(fps)\n",
    "    cv2.putText(frame, f\"FPS: {fps:.2f}\", (10, 30), cv2.FONT_HERSHEY_SIMPLEX, 1, (0, 255, 0), 2)\n",
    "    \n",
    "    _, _, _, max_locg = cv2.minMaxLoc(gray)\n",
    "    cv2.circle(frame,max_locg,10,(0,0,0),-1)\n",
    "    \n",
    "    \n",
    "    red_mask = cv2.inRange(frame, (0,0,100), (50,50,255))\n",
    "    max_logr = numpy.unravel_index(numpy.argmax(numpy.ma.masked_where(red_mask == 0, red)), red.shape)\n",
    "\n",
    "  \n",
    "    cv2.circle(frame, max_logr, 10,(0,0, 255), -1)\n",
    "\n",
    "\n",
    "    #Part 6\n",
    "    # max_intensity = 0\n",
    "    # max_loc = (0, 0)\n",
    "\n",
    "    # for y in range(frame.shape[0]):\n",
    "    #     for x in range(frame.shape[1]):\n",
    "    #         intensity = gray[y, x]\n",
    "    #         if intensity > max_intensity:\n",
    "    #             max_intensity = intensity\n",
    "    #             max_loc = (x, y)\n",
    "\n",
    "    # cv2.circle(frame, max_loc, 30, (0, 255, 0))\n",
    "    \n",
    "    \n",
    "    \n",
    "    cv2.imshow('frame', frame)\n",
    "    #cv2.imshow('gray',gray)\n",
    "    #cv2.imshow('red',red)\n",
    "    \n",
    "    \n",
    "    \n",
    "    if cv2.waitKey(1) & 0xFF == ord('q'):\n",
    "        break\n",
    "\n",
    "cap.release()\n",
    "cv2.destroyAllWindows()"
   ]
  }
 ],
 "metadata": {
  "kernelspec": {
   "display_name": "Python 3",
   "language": "python",
   "name": "python3"
  },
  "language_info": {
   "codemirror_mode": {
    "name": "ipython",
    "version": 3
   },
   "file_extension": ".py",
   "mimetype": "text/x-python",
   "name": "python",
   "nbconvert_exporter": "python",
   "pygments_lexer": "ipython3",
   "version": "3.12.0"
  }
 },
 "nbformat": 4,
 "nbformat_minor": 2
}
