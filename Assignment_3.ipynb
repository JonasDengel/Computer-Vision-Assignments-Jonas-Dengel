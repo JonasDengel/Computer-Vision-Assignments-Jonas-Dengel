{
 "cells": [
  {
   "cell_type": "code",
   "execution_count": 35,
   "metadata": {},
   "outputs": [],
   "source": [
    "#Assignment 3\n",
    "import cv2\n",
    "import numpy as np\n",
    "import time\n",
    "import math\n",
    "\n",
    "\n"
   ]
  },
  {
   "cell_type": "code",
   "execution_count": 36,
   "metadata": {},
   "outputs": [],
   "source": [
    "#cap = cv2.VideoCapture(\"https://192.168.1.72:8080/video\") \n",
    "cap = cv2.VideoCapture(0) \n",
    "\n",
    "def distance_between_lines(line1, line2):\n",
    "    x1, y1, x2, y2 = line1\n",
    "    x3, y3, x4, y4 = line2\n",
    "\n",
    "    # Berechne die Mittelpunkte der Linien\n",
    "    midpoint1 = ((x1 + x2) / 2, (y1 + y2) / 2)\n",
    "    midpoint2 = ((x3 + x4) / 2, (y3 + y4) / 2)\n",
    "\n",
    "    # Berechne den Abstand zwischen den Mittelpunkten\n",
    "    distance = np.sqrt((midpoint1[0] - midpoint2[0])**2 + (midpoint1[1] - midpoint2[1])**2)\n",
    "\n",
    "    return distance\n",
    "\n",
    "def angle(line):\n",
    "    x1, y1, x2, y2=line\n",
    "    return math.degrees(math.atan2(y2 - y1, x2 - x1))\n",
    "\n",
    "def block(angle1, angle2, threshold=10):\n",
    "    return abs(abs(angle1 - angle2)) <= threshold\n",
    "\n",
    "def order_points(pts):\n",
    "    rect = np.zeros((4, 2), dtype=\"float32\")\n",
    "    s = pts.sum(axis=1)\n",
    "    rect[0] = pts[np.argmin(s)]\n",
    "    rect[2] = pts[np.argmax(s)]\n",
    "    diff = np.diff(pts, axis=1)\n",
    "    rect[1] = pts[np.argmin(diff)]\n",
    "    rect[3] = pts[np.argmax(diff)]\n",
    "    return rect\n",
    "\n",
    "def transform(image, pts, output_size=(500, 500)):\n",
    "    rect = order_points(pts)\n",
    "    (tl, tr, br, bl) = rect\n",
    "\n",
    "    dst = np.array([\n",
    "        [0, 0],\n",
    "        [output_size[0] - 1, 0],\n",
    "        [output_size[0] - 1, output_size[1] - 1],\n",
    "        [0, output_size[1] - 1]\n",
    "    ], dtype=\"float32\")\n",
    "\n",
    "    M = cv2.getPerspectiveTransform(rect, dst)\n",
    "\n",
    "    warped = cv2.warpPerspective(image, M, output_size)\n",
    "\n",
    "    return warped\n",
    "\n",
    "\n",
    "def find_intersections(lines):\n",
    "    intersections = []\n",
    "    for i in range(len(lines)):\n",
    "        for j in range(i+1, len(lines)):\n",
    "            line1 = lines[i][0]\n",
    "            line2 = lines[j][0]\n",
    "\n",
    "            x1, y1, x2, y2 = line1\n",
    "            x3, y3, x4, y4 = line2\n",
    "\n",
    "            den = (x1 - x2) * (y3 - y4) - (y1 - y2) * (x3 - x4)\n",
    "\n",
    "            # Überprüfe, ob die Linien nicht parallel sind\n",
    "            if den != 0:\n",
    "                px = int(((x1 * y2 - y1 * x2) * (x3 - x4) - (x1 - x2) * (x3 * y4 - y3 * x4)) / den)\n",
    "                py = int(((x1 * y2 - y1 * x2) * (y3 - y4) - (y1 - y2) * (x3 * y4 - y3 * x4)) / den)\n",
    "                \n",
    "                cv2.circle(frame,(px,py), 5,(255,0,0), -1)\n",
    "                \n",
    "                intersections.append((int(px), int(py)))\n",
    "\n",
    "    return intersections"
   ]
  },
  {
   "cell_type": "code",
   "execution_count": 37,
   "metadata": {},
   "outputs": [],
   "source": [
    "while True:\n",
    "    ret, frame = cap.read()\n",
    "    frame=cv2.resize(frame,(500,500))\n",
    "    grey=cv2.cvtColor(frame, cv2.COLOR_BGR2GRAY)\n",
    "    gaus = cv2.GaussianBlur(grey, (5, 5), 0)\n",
    "    gaus2 = cv2.GaussianBlur(gaus, (5, 5), 0)\n",
    "    gaus3 = cv2.dilate(gaus2, (5, 5))\n",
    "    edges = cv2.Canny(gaus3, 150, 200)\n",
    "    lines1 = cv2.HoughLinesP(edges, 1, np.pi / 180, threshold=100, minLineLength=200, maxLineGap=200)\n",
    "    \n",
    "    if lines1 is not None:\n",
    "        lines2 = np.array(sorted(lines1, key=lambda line: np.linalg.norm(line[0, :2] - line[0, 2:])))\n",
    "        lines = lines2[:10]\n",
    "        a=np.empty(100)\n",
    "        drawed=np.empty((100,4))\n",
    "        if lines is not None:\n",
    "            i = 0\n",
    "\n",
    "            for line in lines:\n",
    "                x1, y1, x2, y2 = line[0]\n",
    "                drawed[i][0]=x1\n",
    "                drawed[i][1]=y1\n",
    "                drawed[i][2]=x2\n",
    "                drawed[i][3]=y2\n",
    "                a[i]=angle(line[0])\n",
    "                \n",
    "                if (distance_between_lines(drawed[i],drawed[i-1])>300 or not block(a[i],a[i-1])):\n",
    "                    \n",
    "                    cv2.line(frame, (x1, y1), (x2, y2), (0, 0, 255), 2)\n",
    "                    i=i+1\n",
    "\n",
    "                if i > 3:\n",
    "                          \n",
    "                    intersections_all=find_intersections(lines)\n",
    "                    intersections = [x for x in intersections_all if all(-1080 <= coord <= 1080 for coord in x)]\n",
    "                    \n",
    "                    if len(intersections)>3:\n",
    "                        scan = transform(frame,np.array(intersections[:4], dtype=\"float32\"))\n",
    "                        if scan is not None:\n",
    "                            #scan=frame\n",
    "                            cv2.imshow('scan',scan) \n",
    "    \n",
    "                   \n",
    "    #cv2.imshow('canny', edges)           \n",
    "    cv2.imshow('frame', frame)\n",
    "   \n",
    "    if cv2.waitKey(1) & 0xFF == ord('q'):\n",
    "        break\n",
    "\n",
    "cap.release()\n",
    "cv2.destroyAllWindows()\n"
   ]
  },
  {
   "cell_type": "code",
   "execution_count": 38,
   "metadata": {},
   "outputs": [
    {
     "data": {
      "text/plain": [
       "(500, 500, 3)"
      ]
     },
     "execution_count": 38,
     "metadata": {},
     "output_type": "execute_result"
    }
   ],
   "source": [
    "frame.shape"
   ]
  },
  {
   "cell_type": "code",
   "execution_count": 39,
   "metadata": {},
   "outputs": [
    {
     "data": {
      "text/plain": [
       "[(293, 159), (549, 14279), (297, 397), (329, 158), (173689, -5582), (332, 395)]"
      ]
     },
     "execution_count": 39,
     "metadata": {},
     "output_type": "execute_result"
    }
   ],
   "source": [
    "intersections_all\n"
   ]
  }
 ],
 "metadata": {
  "kernelspec": {
   "display_name": "Python 3",
   "language": "python",
   "name": "python3"
  },
  "language_info": {
   "codemirror_mode": {
    "name": "ipython",
    "version": 3
   },
   "file_extension": ".py",
   "mimetype": "text/x-python",
   "name": "python",
   "nbconvert_exporter": "python",
   "pygments_lexer": "ipython3",
   "version": "3.12.0"
  }
 },
 "nbformat": 4,
 "nbformat_minor": 2
}
