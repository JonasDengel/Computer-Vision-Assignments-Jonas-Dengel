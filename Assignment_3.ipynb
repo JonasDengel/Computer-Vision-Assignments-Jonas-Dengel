{
 "cells": [
  {
   "cell_type": "code",
   "execution_count": 48,
   "metadata": {},
   "outputs": [],
   "source": [
    "#Assignment 3\n",
    "import cv2\n",
    "import numpy as np\n",
    "import time\n",
    "import math\n",
    "\n",
    "\n"
   ]
  },
  {
   "cell_type": "code",
   "execution_count": 49,
   "metadata": {},
   "outputs": [],
   "source": [
    "#cap = cv2.VideoCapture(\"https://192.168.1.76:8080/video\") \n",
    "cap = cv2.VideoCapture(0) \n",
    "\n",
    "\n",
    "def angle(line):\n",
    "    x1, y1, x2, y2=line\n",
    "    return math.degrees(math.atan2(y2 - y1, x2 - x1))\n",
    "\n",
    "def block(angle1, angle2, threshold=10):\n",
    "    return abs(abs(angle1 - angle2) - 90) <= threshold\n",
    "\n",
    "def order_points(pts):\n",
    "    rect = np.zeros((4, 2), dtype=\"float32\")\n",
    "    s = pts.sum(axis=1)\n",
    "    rect[0] = pts[np.argmin(s)]\n",
    "    rect[2] = pts[np.argmax(s)]\n",
    "    diff = np.diff(pts, axis=1)\n",
    "    rect[1] = pts[np.argmin(diff)]\n",
    "    rect[3] = pts[np.argmax(diff)]\n",
    "    return rect\n",
    "\n",
    "def transform(image, pts, output_size=(500, 500)):\n",
    "    rect = order_points(pts)\n",
    "    (tl, tr, br, bl) = rect\n",
    "\n",
    "    dst = np.array([\n",
    "        [0, 0],\n",
    "        [output_size[0] - 1, 0],\n",
    "        [output_size[0] - 1, output_size[1] - 1],\n",
    "        [0, output_size[1] - 1]\n",
    "    ], dtype=\"float32\")\n",
    "\n",
    "    M = cv2.getPerspectiveTransform(rect, dst)\n",
    "    warped = cv2.warpPerspective(image, M, output_size)\n",
    "\n",
    "    return warped\n",
    "\n",
    "def find_intersections(lines):\n",
    "    intersections = []\n",
    "    for i in range(len(lines)):\n",
    "        for j in range(i+1, len(lines)):\n",
    "            line1 = lines[i][0]\n",
    "            line2 = lines[j][0]\n",
    "\n",
    "            x1, y1, x2, y2 = line1\n",
    "            x3, y3, x4, y4 = line2\n",
    "\n",
    "            den = (x1 - x2) * (y3 - y4) - (y1 - y2) * (x3 - x4)\n",
    "\n",
    "            # Überprüfe, ob die Linien nicht parallel sind\n",
    "            if den != 0:\n",
    "                px = int(((x1 * y2 - y1 * x2) * (x3 - x4) - (x1 - x2) * (x3 * y4 - y3 * x4)) / den)\n",
    "                py = int(((x1 * y2 - y1 * x2) * (y3 - y4) - (y1 - y2) * (x3 * y4 - y3 * x4)) / den)\n",
    "                \n",
    "                cv2.circle(frame,(px,py), 5,(255,0,0), -1)\n",
    "                \n",
    "                intersections.append((int(px), int(py)))\n",
    "\n",
    "    return intersections"
   ]
  },
  {
   "cell_type": "code",
   "execution_count": 50,
   "metadata": {},
   "outputs": [],
   "source": [
    "while True:\n",
    "    ret, frame = cap.read()\n",
    "    gaus = cv2.GaussianBlur(frame, (5, 5), 0)\n",
    "    gaus2 = cv2.GaussianBlur(gaus, (5, 5), 0)\n",
    "    gaus3 = cv2.dilate(gaus2, (5, 5))\n",
    "    edges = cv2.Canny(gaus3, 100, 200)\n",
    "    lines1 = cv2.HoughLinesP(edges, 1, np.pi / 180, threshold=100, minLineLength=200, maxLineGap=200)\n",
    "\n",
    "    if lines1 is not None:\n",
    "        lines2 = np.array(sorted(lines1, key=lambda line: np.linalg.norm(line[0, :2] - line[0, 2:])))\n",
    "        lines = lines2[:4]\n",
    "\n",
    "        if lines is not None:\n",
    "            i = 0\n",
    "\n",
    "            for line in lines:\n",
    "                x1, y1, x2, y2 = line[0]\n",
    "                cv2.line(frame, (x1, y1), (x2, y2), (0, 0, 255), 2)\n",
    "                i=i+1\n",
    "\n",
    "                if i > 3:\n",
    "                          \n",
    "                    intersections=find_intersections(lines)\n",
    "                    \n",
    "                    if len(intersections)>3:\n",
    "                        scan = transform(frame,np.array(intersections, dtype=\"float32\"))\n",
    "                        \n",
    "    if scan is not None:\n",
    "        cv2.imshow('scan',scan) \n",
    "                   \n",
    "    # cv2.imshow('canny', edges)           \n",
    "    cv2.imshow('frame', frame)\n",
    "   \n",
    "    if cv2.waitKey(1) & 0xFF == ord('q'):\n",
    "        break\n",
    "\n",
    "cap.release()\n",
    "cv2.destroyAllWindows()\n"
   ]
  },
  {
   "cell_type": "code",
   "execution_count": 51,
   "metadata": {},
   "outputs": [
    {
     "data": {
      "text/plain": [
       "[(-733102, -50492),\n",
       " (514, 453),\n",
       " (1085186, 75778),\n",
       " (514, 102),\n",
       " (-736, 16),\n",
       " (514, 103)]"
      ]
     },
     "execution_count": 51,
     "metadata": {},
     "output_type": "execute_result"
    }
   ],
   "source": [
    "intersections\n"
   ]
  }
 ],
 "metadata": {
  "kernelspec": {
   "display_name": "Python 3",
   "language": "python",
   "name": "python3"
  },
  "language_info": {
   "codemirror_mode": {
    "name": "ipython",
    "version": 3
   },
   "file_extension": ".py",
   "mimetype": "text/x-python",
   "name": "python",
   "nbconvert_exporter": "python",
   "pygments_lexer": "ipython3",
   "version": "3.12.0"
  }
 },
 "nbformat": 4,
 "nbformat_minor": 2
}
